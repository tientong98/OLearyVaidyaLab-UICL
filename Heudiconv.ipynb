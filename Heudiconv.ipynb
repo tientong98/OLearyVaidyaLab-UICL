{
 "cells": [
  {
   "cell_type": "code",
   "execution_count": null,
   "metadata": {
    "collapsed": true
   },
   "outputs": [],
   "source": [
    "singularity pull docker://nipy/heudiconv:latest"
   ]
  },
  {
   "cell_type": "code",
   "execution_count": null,
   "metadata": {
    "collapsed": true
   },
   "outputs": [],
   "source": [
    "# Get scan information and a heuristic template\n",
    "\n",
    "singularity run \\\n",
    "-H ~/.singularity \\\n",
    "-B /Shared/oleary/:/hpc \\\n",
    "/Users/tientong/heudiconv-latest.simg \\\n",
    "-d /hpc/functional/UICL/dicomdata/{subject}/{session}/*/*.dcm \\\n",
    "-s 5002 \\\n",
    "-ss 64157414 \\\n",
    "-f convertall \\\n",
    "-c none \\\n",
    "-o /hpc/functional/UICL/BIDS\n",
    "\n",
    "# everything will be store in /hpc/functional/UICL/BIDS/.heudiconv"
   ]
  },
  {
   "cell_type": "markdown",
   "metadata": {},
   "source": [
    "Edit the heuristic file, saved to `heudiconv/convert.py`"
   ]
  },
  {
   "cell_type": "code",
   "execution_count": null,
   "metadata": {
    "collapsed": true
   },
   "outputs": [],
   "source": [
    "# run heudiconv for single subject\n",
    "\n",
    "singularity run \\\n",
    "-H ~/.singularity \\\n",
    "-B /Shared/oleary/:/hpc \\\n",
    "/Users/tientong/heudiconv-latest.simg \\\n",
    "-d /hpc/functional/UICL/dicomdata/{subject}/{session}/*/64157414*.dcm \\\n",
    "-s 5002 \\\n",
    "-ss 64157414 \\\n",
    "-f /hpc/functional/UICL/BIDS/code/heudiconv/convert.py `# place where I saved the edited heuristic converter` \\\n",
    "-c dcm2niix -b `# converter I want to use (into bids format)` \\\n",
    "-o /hpc/functional/UICL/BIDS"
   ]
  },
  {
   "cell_type": "markdown",
   "metadata": {},
   "source": [
    "# Time 2  = 119 subjects\n",
    "\n",
    "First get the list of subject id and session number\n",
    "\n",
    "`/Shared/oleary/functional/UICL/BIDS/code/time2/time2_id.txt` = list of all subjects had \"gender time 2\" data"
   ]
  },
  {
   "cell_type": "code",
   "execution_count": null,
   "metadata": {},
   "outputs": [],
   "source": [
    "%%bash\n",
    "for sub in $(cat /Shared/oleary/functional/UICL/BIDS/code/time2/time2_id.txt | tr \"\\n\" \" \") ; do\n",
    "    for i in /Shared/oleary/functional/UICL/dicomdata/$sub/[0-9]* ; do \n",
    "        ses=(`echo $i | awk '{gsub(\"/\",\" \"); print $7}'`)\n",
    "        echo ${sub}_${ses} >> time1time2_id.txt\n",
    "    done\n",
    "done"
   ]
  },
  {
   "cell_type": "markdown",
   "metadata": {},
   "source": [
    "### Issue 1: Find the list of sub and ses for Time 2 data\n",
    "\n",
    "Run this:\n",
    "\n",
    "`/Shared/oleary/functional/UICL/BIDS/code/time2/gett2session.Rmd`\n",
    "\n",
    "to get the session numbers of time 2, the list printed in this txt file \n",
    "\n",
    "`/Shared/oleary/functional/UICL/BIDS/code/time2/time2_idses.txt`\n",
    "\n",
    "\n",
    "### Issue 2: For some subjects, ses included both corrected and uncorrected dicoms\n",
    "\n",
    "this is post-processing done automatically. E.g., 3011 \n",
    "\n",
    "`/Shared/oleary/functional/UICL/dicomdata/3011/63029716/T2_013/`\n",
    "\n",
    "and\n",
    "\n",
    "`/Shared/oleary/functional/UICL/dicomdata/3011/63029716/T2_1300/`\n",
    "\n",
    "have to get rid of the ones with the bigger number (uncorrected).\n",
    "\n",
    "First, get a list of all scans from all 119 people"
   ]
  },
  {
   "cell_type": "code",
   "execution_count": null,
   "metadata": {},
   "outputs": [],
   "source": [
    "%%bash\n",
    "\n",
    "sub=($(awk '{print $2}' /Shared/oleary/functional/UICL/BIDS/code/time2/time2_idses.txt))\n",
    "ses=($(awk '{print $3}' /Shared/oleary/functional/UICL/BIDS/code/time2/time2_idses.txt))\n",
    "\n",
    "for n in 0 1 2 3 4 5 6 7 8 9 10 11 12 13 14 15 16 17 18 19 20 21 22 23 24 25 26 27 28 29 30 31 32 33 34 35 36 37 38 39 40 41 42 43 44 45 46 47 48 49 50 51 52 53 54 55 56 57 58 59 60 61 62 63 64 65 66 67 68 69 70 71 72 73 74 75 76 77 78 79 80 81 82 83 84 85 86 87 88 89 90 91 92 93 94 95 96 97 98 99 100 101 102 103 104 105 106 107 108 109 110 111 112 113 114 115 116 117 118 ; do\n",
    "\n",
    "ls -d /Shared/oleary/functional/UICL/dicomdata/${sub[$n]}/${ses[$n]}/*/ >> /oleary/functional/UICL/BIDS/code/time2/allscanslist.txt\n",
    "\n",
    "done"
   ]
  },
  {
   "cell_type": "markdown",
   "metadata": {},
   "source": [
    "Then, run `/oleary/functional/UICL/BIDS/code/time2/move_extrascans.R` to move extra scans to `/Shared/oleary/functional/UICL/dicomdata/extra`.\n",
    "\n",
    "# Back to Heudiconv\n",
    "\n",
    "Create the template script below, which can be used to generate subject specific script"
   ]
  },
  {
   "cell_type": "code",
   "execution_count": null,
   "metadata": {},
   "outputs": [],
   "source": [
    "%%bash\n",
    "\n",
    "#!/bin/bash\n",
    "\n",
    "subject_log=/Shared/oleary/functional/UICL/BIDS/code/time2/heudiconvT2_log/SUBJECT_SESSION.txt\n",
    "\n",
    "echo '#--------------------------------------------------------------------------------' >> ${subject_log}\n",
    "\n",
    "singularity run \\\n",
    "-H /Users/tientong/.singularity \\\n",
    "-B /Shared/oleary/:/hpc \\\n",
    "/Users/tientong/heudiconv-latest.simg \\\n",
    "-d /Shared/oleary/functional/UICL/dicomdata/{subject}/{session}/*/*.dcm \\\n",
    "-s SUBJECT \\\n",
    "-ss SESSION \\\n",
    "-f /Shared/oleary/functional/UICL/BIDS/code/heudiconv/convert.py \\\n",
    "-c dcm2niix -b \\\n",
    "-o /Shared/oleary/functional/UICL/BIDS/time2 2>&1 | tee ${subject_log}\n",
    "\n",
    "date +\"end_time: %Y-%m-%d_%H-%M-%S\" >> ${subject_log}\n",
    "echo '' >> ${subject_log}\n"
   ]
  },
  {
   "cell_type": "markdown",
   "metadata": {},
   "source": [
    "use `sed` to replace placeholders with actual subject id and sessions to create subject specific script"
   ]
  },
  {
   "cell_type": "code",
   "execution_count": null,
   "metadata": {},
   "outputs": [],
   "source": [
    "%%bash\n",
    "\n",
    "sub=($(awk '{print $2}' /Shared/oleary/functional/UICL/BIDS/code/time2/time2_idses.txt))\n",
    "ses=($(awk '{print $3}' /Shared/oleary/functional/UICL/BIDS/code/time2/time2_idses.txt))\n",
    "\n",
    "for n in 0 1 2 3 4 5 6 7 8 9 10 11 12 13 14 15 16 17 18 19 20 21 22 23 24 25 26 27 28 29 30 31 32 33 34 35 36 37 38 39 40 41 42 43 44 45 46 47 48 49 50 51 52 53 54 55 56 57 58 59 60 61 62 63 64 65 66 67 68 69 70 71 72 73 74 75 76 77 78 79 80 81 82 83 84 85 86 87 88 89 90 91 92 93 94 95 96 97 98 99 100 101 102 103 104 105 106 107 108 109 110 111 112 113 114 115 116 117 118 ; do\n",
    "sed -e \"s|SUBJECT|${sub[$n]}|\" -e \"s|SESSION|${ses[$n]}|\" heudiconv_TEMPLATE.sh > heudiconv_sub-${sub[$n]}_ses-${ses[$n]}.sh\n",
    "done"
   ]
  },
  {
   "cell_type": "markdown",
   "metadata": {},
   "source": [
    "run multiple scripts:\n",
    "\n",
    "`ls heudiconv_sub* | xargs -i{} -P5 sh {}`"
   ]
  },
  {
   "cell_type": "code",
   "execution_count": null,
   "metadata": {},
   "outputs": [],
   "source": []
  },
  {
   "cell_type": "code",
   "execution_count": null,
   "metadata": {},
   "outputs": [],
   "source": []
  },
  {
   "cell_type": "code",
   "execution_count": 3,
   "metadata": {
    "scrolled": false
   },
   "outputs": [
    {
     "name": "stdout",
     "output_type": "stream",
     "text": [
      "0 1 2 3 4 5 6 7 8 9 10 11 12 13 14 15 16 17 18 19 20 21 22 23 24 25 26 27 28 29 30 31 32 33 34 35 36 37 38 39 40 41 42 43 44 45 46 47 48 49 50 51 52 53 54 55 56 57 58 59 60 61 62 63 64 65 66 67 68 69 70 71 72 73 74 75 76 77 78 79 80 81 82 83 84 85 86 87 88 89 90 91 92 93 94 95 96 97 98 99 100 101 102 103 104 105 106 107 108 109 110 111 112 113 114 115 116 117 118 "
     ]
    }
   ],
   "source": [
    "for number in range(0, 119):\n",
    "    print(number, end=\" \")\n",
    "    "
   ]
  }
 ],
 "metadata": {
  "kernelspec": {
   "display_name": "Python 3",
   "language": "python",
   "name": "python3"
  },
  "language_info": {
   "codemirror_mode": {
    "name": "ipython",
    "version": 3
   },
   "file_extension": ".py",
   "mimetype": "text/x-python",
   "name": "python",
   "nbconvert_exporter": "python",
   "pygments_lexer": "ipython3",
   "version": "3.7.2"
  }
 },
 "nbformat": 4,
 "nbformat_minor": 2
}
