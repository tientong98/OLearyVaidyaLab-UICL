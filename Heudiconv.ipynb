{
 "cells": [
  {
   "cell_type": "code",
   "execution_count": null,
   "metadata": {
    "collapsed": true
   },
   "outputs": [],
   "source": [
    "singularity pull docker://nipy/heudiconv:latest"
   ]
  },
  {
   "cell_type": "code",
   "execution_count": null,
   "metadata": {
    "collapsed": true
   },
   "outputs": [],
   "source": [
    "# Get scan information and a heuristic template\n",
    "\n",
    "singularity run \\\n",
    "-H ~/.singularity \\\n",
    "-B /Shared/oleary/:/hpc \\\n",
    "/Users/tientong/heudiconv-latest.simg \\\n",
    "-d /hpc/functional/UICL/dicomdata/{subject}/{session}/*/*.dcm \\\n",
    "-s 5002 \\\n",
    "-ss 64157414 \\\n",
    "-f convertall \\\n",
    "-c none \\\n",
    "-o /hpc/functional/UICL/BIDS\n",
    "\n",
    "everything will be store in /hpc/functional/UICL/BIDS/.heudiconv"
   ]
  },
  {
   "cell_type": "markdown",
   "metadata": {},
   "source": [
    "Edit the heuristic file, saved to `heudiconv/convert.py`"
   ]
  },
  {
   "cell_type": "code",
   "execution_count": null,
   "metadata": {
    "collapsed": true
   },
   "outputs": [],
   "source": [
    "# run heudiconv for single subject\n",
    "\n",
    "singularity run \\\n",
    "-H ~/.singularity \\\n",
    "-B /Shared/oleary/:/hpc \\\n",
    "/Users/tientong/heudiconv-latest.simg \\\n",
    "-d /hpc/functional/UICL/dicomdata/{subject}/{session}/*/64157414*.dcm \\\n",
    "-s 5002 \\\n",
    "-ss 64157414 \\\n",
    "-f /hpc/functional/UICL/BIDS/code/heudiconv/convert.py `# place where I saved the edited heuristic converter` \\\n",
    "-c dcm2niix -b `# converter I want to use (into bids format)` \\\n",
    "-o /hpc/functional/UICL/BIDS"
   ]
  },
  {
   "cell_type": "code",
   "execution_count": null,
   "metadata": {
    "collapsed": true
   },
   "outputs": [],
   "source": [
    "%%bash\n",
    "# run heudiconv for multiple subjects\n",
    "# HAVE TO ADD PARALLEL FOR LOOP, THIS WON'T WORK, LOOK AT BD COGA SCRIPT\n",
    "\n",
    "for subject in $(cat /Shared/oleary/functional/UICL/BIDS/subject_list/subjects.txt | tr '\\n' ' ') ; do\n",
    "    for session in $(cat /Shared/oleary/functional/UICL/BIDS/subject_list/session1.txt | tr '\\n' ' ') ; do\n",
    "        singularity run \\\n",
    "        -H ~/.singularity \\\n",
    "        -B /Shared/oleary/:/hpc \\\n",
    "        /Users/tientong/.singularity/docker/heudiconv-latest.simg \\\n",
    "        -d /hpc/functional/UICL/dicomdata/{subject}/{session}/*/*.dcm \\\n",
    "        -s ${subject} \\\n",
    "        -ss ${session} \\\n",
    "        -f /hpc/functional/UICL/BIDSnifti/code/convert.py `# place where I saved the edited heuristic converter` \\\n",
    "        -c dcm2niix -b `# converter I want to use (into bids format)` \\\n",
    "        -o /hpc/functional/UICL/BIDSnifti\n",
    "    done\n",
    "done"
   ]
  }
 ],
 "metadata": {
  "kernelspec": {
   "display_name": "Python 3",
   "language": "python",
   "name": "python3"
  },
  "language_info": {
   "codemirror_mode": {
    "name": "ipython",
    "version": 3
   },
   "file_extension": ".py",
   "mimetype": "text/x-python",
   "name": "python",
   "nbconvert_exporter": "python",
   "pygments_lexer": "ipython3",
   "version": "3.7.2"
  }
 },
 "nbformat": 4,
 "nbformat_minor": 2
}
